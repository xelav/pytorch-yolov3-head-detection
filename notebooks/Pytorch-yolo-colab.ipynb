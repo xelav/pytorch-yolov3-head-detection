{
 "cells": [
  {
   "cell_type": "code",
   "execution_count": 4,
   "metadata": {
    "id": "FzghF4W9GGhp",
    "colab_type": "code",
    "colab": {
     "base_uri": "https://localhost:8080/",
     "height": 1000.0
    },
    "outputId": "e98b8c44-652b-459c-95c8-0c4bcac01853",
    "executionInfo": {
     "status": "ok",
     "timestamp": 1.565218049165E12,
     "user_tz": -180.0,
     "elapsed": 45200.0,
     "user": {
      "displayName": "Valentin Alexandrov",
      "photoUrl": "",
      "userId": "15937191641882803271"
     }
    }
   },
   "outputs": [
    {
     "name": "stdout",
     "output_type": "stream",
     "text": [
      "Go to this URL in a browser: https://accounts.google.com/o/oauth2/auth?client_id=947318989803-6bn6qk8qdgf4n4g3pfee6491hc0brc4i.apps.googleusercontent.com&redirect_uri=urn%3Aietf%3Awg%3Aoauth%3A2.0%3Aoob&scope=email%20https%3A%2F%2Fwww.googleapis.com%2Fauth%2Fdocs.test%20https%3A%2F%2Fwww.googleapis.com%2Fauth%2Fdrive%20https%3A%2F%2Fwww.googleapis.com%2Fauth%2Fdrive.photos.readonly%20https%3A%2F%2Fwww.googleapis.com%2Fauth%2Fpeopleapi.readonly&response_type=code\n",
      "\n",
      "Enter your authorization code:\n",
      "··········\n",
      "Mounted at /content/drive\n",
      "/content/drive/My Drive/head-detection-yolov3-pytorch\n",
      "Requirement already satisfied: numpy in /usr/local/lib/python3.6/dist-packages (from -r requirements.txt (line 1)) (1.16.4)\n",
      "Requirement already satisfied: torch>=1.0 in /usr/local/lib/python3.6/dist-packages (from -r requirements.txt (line 2)) (1.1.0)\n",
      "Requirement already satisfied: torchvision in /usr/local/lib/python3.6/dist-packages (from -r requirements.txt (line 3)) (0.3.0)\n",
      "Requirement already satisfied: matplotlib in /usr/local/lib/python3.6/dist-packages (from -r requirements.txt (line 4)) (3.0.3)\n",
      "Requirement already satisfied: tensorflow in /usr/local/lib/python3.6/dist-packages (from -r requirements.txt (line 5)) (1.14.0)\n",
      "Requirement already satisfied: tensorboard in /usr/local/lib/python3.6/dist-packages (from -r requirements.txt (line 6)) (1.14.0)\n",
      "Collecting tensorboardx (from -r requirements.txt (line 7))\n",
      "\u001b[?25l  Downloading https://files.pythonhosted.org/packages/c3/12/dcaf67e1312475b26db9e45e7bb6f32b540671a9ee120b3a72d9e09bc517/tensorboardX-1.8-py2.py3-none-any.whl (216kB)\n",
      "\u001b[K     |████████████████████████████████| 225kB 1.4MB/s \n",
      "\u001b[?25hCollecting terminaltables (from -r requirements.txt (line 8))\n",
      "  Downloading https://files.pythonhosted.org/packages/9b/c4/4a21174f32f8a7e1104798c445dacdc1d4df86f2f26722767034e4de4bff/terminaltables-3.1.0.tar.gz\n",
      "Requirement already satisfied: pillow in /usr/local/lib/python3.6/dist-packages (from -r requirements.txt (line 9)) (4.3.0)\n",
      "Requirement already satisfied: tqdm in /usr/local/lib/python3.6/dist-packages (from -r requirements.txt (line 10)) (4.28.1)\n",
      "Requirement already satisfied: imgaug in /usr/local/lib/python3.6/dist-packages (from -r requirements.txt (line 11)) (0.2.9)\n",
      "Collecting sacred (from -r requirements.txt (line 13))\n",
      "\u001b[?25l  Downloading https://files.pythonhosted.org/packages/6c/89/bd8a71138906b146eea621505236f8704a3eeab2b9668aad77691b93fdb8/sacred-0.7.5-py2.py3-none-any.whl (92kB)\n",
      "\u001b[K     |████████████████████████████████| 102kB 35.7MB/s \n",
      "\u001b[?25hCollecting pytorch-ignite (from -r requirements.txt (line 15))\n",
      "\u001b[?25l  Downloading https://files.pythonhosted.org/packages/98/7b/1da69e5fdcb70e8f40ff3955516550207d5f5c81b428a5056510e72c60c5/pytorch_ignite-0.2.0-py2.py3-none-any.whl (73kB)\n",
      "\u001b[K     |████████████████████████████████| 81kB 34.8MB/s \n",
      "\u001b[?25hRequirement already satisfied: six in /usr/local/lib/python3.6/dist-packages (from torchvision->-r requirements.txt (line 3)) (1.12.0)\n",
      "Requirement already satisfied: pyparsing!=2.0.4,!=2.1.2,!=2.1.6,>=2.0.1 in /usr/local/lib/python3.6/dist-packages (from matplotlib->-r requirements.txt (line 4)) (2.4.2)\n",
      "Requirement already satisfied: python-dateutil>=2.1 in /usr/local/lib/python3.6/dist-packages (from matplotlib->-r requirements.txt (line 4)) (2.5.3)\n",
      "Requirement already satisfied: cycler>=0.10 in /usr/local/lib/python3.6/dist-packages (from matplotlib->-r requirements.txt (line 4)) (0.10.0)\n",
      "Requirement already satisfied: kiwisolver>=1.0.1 in /usr/local/lib/python3.6/dist-packages (from matplotlib->-r requirements.txt (line 4)) (1.1.0)\n",
      "Requirement already satisfied: keras-preprocessing>=1.0.5 in /usr/local/lib/python3.6/dist-packages (from tensorflow->-r requirements.txt (line 5)) (1.1.0)\n",
      "Requirement already satisfied: grpcio>=1.8.6 in /usr/local/lib/python3.6/dist-packages (from tensorflow->-r requirements.txt (line 5)) (1.15.0)\n",
      "Requirement already satisfied: google-pasta>=0.1.6 in /usr/local/lib/python3.6/dist-packages (from tensorflow->-r requirements.txt (line 5)) (0.1.7)\n",
      "Requirement already satisfied: tensorflow-estimator<1.15.0rc0,>=1.14.0rc0 in /usr/local/lib/python3.6/dist-packages (from tensorflow->-r requirements.txt (line 5)) (1.14.0)\n",
      "Requirement already satisfied: absl-py>=0.7.0 in /usr/local/lib/python3.6/dist-packages (from tensorflow->-r requirements.txt (line 5)) (0.7.1)\n",
      "Requirement already satisfied: wheel>=0.26 in /usr/local/lib/python3.6/dist-packages (from tensorflow->-r requirements.txt (line 5)) (0.33.4)\n",
      "Requirement already satisfied: termcolor>=1.1.0 in /usr/local/lib/python3.6/dist-packages (from tensorflow->-r requirements.txt (line 5)) (1.1.0)\n",
      "Requirement already satisfied: protobuf>=3.6.1 in /usr/local/lib/python3.6/dist-packages (from tensorflow->-r requirements.txt (line 5)) (3.7.1)\n",
      "Requirement already satisfied: gast>=0.2.0 in /usr/local/lib/python3.6/dist-packages (from tensorflow->-r requirements.txt (line 5)) (0.2.2)\n",
      "Requirement already satisfied: astor>=0.6.0 in /usr/local/lib/python3.6/dist-packages (from tensorflow->-r requirements.txt (line 5)) (0.8.0)\n",
      "Requirement already satisfied: wrapt>=1.11.1 in /usr/local/lib/python3.6/dist-packages (from tensorflow->-r requirements.txt (line 5)) (1.11.2)\n",
      "Requirement already satisfied: keras-applications>=1.0.6 in /usr/local/lib/python3.6/dist-packages (from tensorflow->-r requirements.txt (line 5)) (1.0.8)\n",
      "Requirement already satisfied: markdown>=2.6.8 in /usr/local/lib/python3.6/dist-packages (from tensorboard->-r requirements.txt (line 6)) (3.1.1)\n",
      "Requirement already satisfied: werkzeug>=0.11.15 in /usr/local/lib/python3.6/dist-packages (from tensorboard->-r requirements.txt (line 6)) (0.15.5)\n",
      "Requirement already satisfied: setuptools>=41.0.0 in /usr/local/lib/python3.6/dist-packages (from tensorboard->-r requirements.txt (line 6)) (41.0.1)\n",
      "Requirement already satisfied: olefile in /usr/local/lib/python3.6/dist-packages (from pillow->-r requirements.txt (line 9)) (0.46)\n",
      "Requirement already satisfied: imageio in /usr/local/lib/python3.6/dist-packages (from imgaug->-r requirements.txt (line 11)) (2.4.1)\n",
      "Requirement already satisfied: opencv-python in /usr/local/lib/python3.6/dist-packages (from imgaug->-r requirements.txt (line 11)) (3.4.5.20)\n",
      "Requirement already satisfied: Shapely in /usr/local/lib/python3.6/dist-packages (from imgaug->-r requirements.txt (line 11)) (1.6.4.post2)\n",
      "Requirement already satisfied: scipy in /usr/local/lib/python3.6/dist-packages (from imgaug->-r requirements.txt (line 11)) (1.3.0)\n",
      "Requirement already satisfied: scikit-image>=0.11.0 in /usr/local/lib/python3.6/dist-packages (from imgaug->-r requirements.txt (line 11)) (0.15.0)\n",
      "Collecting munch<3.0,>=2.0.2 (from sacred->-r requirements.txt (line 13))\n",
      "  Downloading https://files.pythonhosted.org/packages/68/f4/260ec98ea840757a0da09e0ed8135333d59b8dfebe9752a365b04857660a/munch-2.3.2.tar.gz\n",
      "Collecting jsonpickle<1.0,>=0.7.2 (from sacred->-r requirements.txt (line 13))\n",
      "\u001b[?25l  Downloading https://files.pythonhosted.org/packages/32/d5/2f47f03d3f64c31b0d7070b488274631d7567c36e81a9f744e6638bb0f0d/jsonpickle-0.9.6.tar.gz (67kB)\n",
      "\u001b[K     |████████████████████████████████| 71kB 25.2MB/s \n",
      "\u001b[?25hRequirement already satisfied: packaging>=18.0 in /usr/local/lib/python3.6/dist-packages (from sacred->-r requirements.txt (line 13)) (19.1)\n",
      "Requirement already satisfied: docopt<1.0,>=0.3 in /usr/local/lib/python3.6/dist-packages (from sacred->-r requirements.txt (line 13)) (0.6.2)\n",
      "Collecting colorama>=0.4 (from sacred->-r requirements.txt (line 13))\n",
      "  Downloading https://files.pythonhosted.org/packages/4f/a6/728666f39bfff1719fc94c481890b2106837da9318031f71a8424b662e12/colorama-0.4.1-py2.py3-none-any.whl\n",
      "Collecting py-cpuinfo>=4.0 (from sacred->-r requirements.txt (line 13))\n",
      "\u001b[?25l  Downloading https://files.pythonhosted.org/packages/42/60/63f28a5401da733043abe7053e7d9591491b4784c4f87c339bf51215aa0a/py-cpuinfo-5.0.0.tar.gz (82kB)\n",
      "\u001b[K     |████████████████████████████████| 92kB 34.1MB/s \n",
      "\u001b[?25hRequirement already satisfied: h5py in /usr/local/lib/python3.6/dist-packages (from keras-applications>=1.0.6->tensorflow->-r requirements.txt (line 5)) (2.8.0)\n",
      "Requirement already satisfied: PyWavelets>=0.4.0 in /usr/local/lib/python3.6/dist-packages (from scikit-image>=0.11.0->imgaug->-r requirements.txt (line 11)) (1.0.3)\n",
      "Requirement already satisfied: networkx>=2.0 in /usr/local/lib/python3.6/dist-packages (from scikit-image>=0.11.0->imgaug->-r requirements.txt (line 11)) (2.3)\n",
      "Requirement already satisfied: attrs in /usr/local/lib/python3.6/dist-packages (from packaging>=18.0->sacred->-r requirements.txt (line 13)) (19.1.0)\n",
      "Requirement already satisfied: decorator>=4.3.0 in /usr/local/lib/python3.6/dist-packages (from networkx>=2.0->scikit-image>=0.11.0->imgaug->-r requirements.txt (line 11)) (4.4.0)\n",
      "Building wheels for collected packages: terminaltables, munch, jsonpickle, py-cpuinfo\n",
      "  Building wheel for terminaltables (setup.py) ... \u001b[?25l\u001b[?25hdone\n",
      "  Created wheel for terminaltables: filename=terminaltables-3.1.0-cp36-none-any.whl size=15357 sha256=1515aa59d921dc014f569bf86a762409dd0c702fe851a4032c765d4a509b3535\n",
      "  Stored in directory: /root/.cache/pip/wheels/30/6b/50/6c75775b681fb36cdfac7f19799888ef9d8813aff9e379663e\n",
      "  Building wheel for munch (setup.py) ... \u001b[?25l\u001b[?25hdone\n",
      "  Created wheel for munch: filename=munch-2.3.2-py2.py3-none-any.whl size=6613 sha256=6df7f9b29938c398e532af5364a05d0ccd8d15fcc2c0039a40b1a81f6d99885e\n",
      "  Stored in directory: /root/.cache/pip/wheels/db/bf/bc/06a3e1bfe0ab27d2e720ceb3cff3159398d92644c0cec2c125\n",
      "  Building wheel for jsonpickle (setup.py) ... \u001b[?25l\u001b[?25hdone\n",
      "  Created wheel for jsonpickle: filename=jsonpickle-0.9.6-cp36-none-any.whl size=29463 sha256=2c0ecc72d3617874fcd7bda26c5fd4fb2815a858503df6ddd09b268ed719af43\n",
      "  Stored in directory: /root/.cache/pip/wheels/07/8b/41/8ce98f4737a9ff61b1bf2673f2abfe66a6a43ad6e91d2c9736\n",
      "  Building wheel for py-cpuinfo (setup.py) ... \u001b[?25l\u001b[?25hdone\n",
      "  Created wheel for py-cpuinfo: filename=py_cpuinfo-5.0.0-cp36-none-any.whl size=18683 sha256=682f457d572479ff3934b9a01c8fa6dba48d0db66dab2fa2b9c787a2ab0b3141\n",
      "  Stored in directory: /root/.cache/pip/wheels/01/7e/a9/b982d0fea22b7e4ae5619de949570cde5ad55420cec16e86a5\n",
      "Successfully built terminaltables munch jsonpickle py-cpuinfo\n",
      "Installing collected packages: tensorboardx, terminaltables, munch, jsonpickle, colorama, py-cpuinfo, sacred, pytorch-ignite\n",
      "Successfully installed colorama-0.4.1 jsonpickle-0.9.6 munch-2.3.2 py-cpuinfo-5.0.0 pytorch-ignite-0.2.0 sacred-0.7.5 tensorboardx-1.8 terminaltables-3.1.0\n"
     ]
    }
   ],
   "source": [
    "from google.colab import drive\n",
    "drive.mount('/content/drive', force_remount=True)\n",
    "\n",
    "root_dir = \"/content/drive/My Drive/head-detection-yolov3-pytorch\"\n",
    "%cd \"{root_dir}\"\n",
    "!pip install -r requirements.txt"
   ]
  },
  {
   "cell_type": "code",
   "execution_count": 5,
   "metadata": {
    "id": "cjC9asp7GvA3",
    "colab_type": "code",
    "outputId": "77b4a669-06a2-4808-8ae4-c646920b5865",
    "executionInfo": {
     "status": "ok",
     "timestamp": 1.565218050477E12,
     "user_tz": -180.0,
     "elapsed": 8940.0,
     "user": {
      "displayName": "Valentin Alexandrov",
      "photoUrl": "",
      "userId": "15937191641882803271"
     }
    },
    "colab": {
     "base_uri": "https://localhost:8080/",
     "height": 326.0
    }
   },
   "outputs": [
    {
     "name": "stdout",
     "output_type": "stream",
     "text": [
      "Wed Aug  7 22:47:29 2019       \n",
      "+-----------------------------------------------------------------------------+\n",
      "| NVIDIA-SMI 418.67       Driver Version: 410.79       CUDA Version: 10.0     |\n",
      "|-------------------------------+----------------------+----------------------+\n",
      "| GPU  Name        Persistence-M| Bus-Id        Disp.A | Volatile Uncorr. ECC |\n",
      "| Fan  Temp  Perf  Pwr:Usage/Cap|         Memory-Usage | GPU-Util  Compute M. |\n",
      "|===============================+======================+======================|\n",
      "|   0  Tesla T4            Off  | 00000000:00:04.0 Off |                    0 |\n",
      "| N/A   50C    P8    16W /  70W |      0MiB / 15079MiB |      0%      Default |\n",
      "+-------------------------------+----------------------+----------------------+\n",
      "                                                                               \n",
      "+-----------------------------------------------------------------------------+\n",
      "| Processes:                                                       GPU Memory |\n",
      "|  GPU       PID   Type   Process name                             Usage      |\n",
      "|=============================================================================|\n",
      "|  No running processes found                                                 |\n",
      "+-----------------------------------------------------------------------------+\n"
     ]
    }
   ],
   "source": [
    "!nvidia-smi"
   ]
  },
  {
   "cell_type": "code",
   "execution_count": 6,
   "metadata": {
    "id": "Agw9wRpihRds",
    "colab_type": "code",
    "outputId": "fee48685-5e9c-4391-877a-89f5a542f0db",
    "executionInfo": {
     "status": "ok",
     "timestamp": 1.565218057212E12,
     "user_tz": -180.0,
     "elapsed": 2427.0,
     "user": {
      "displayName": "Valentin Alexandrov",
      "photoUrl": "",
      "userId": "15937191641882803271"
     }
    },
    "colab": {
     "base_uri": "https://localhost:8080/",
     "height": 1000.0
    }
   },
   "outputs": [
    {
     "name": "stdout",
     "output_type": "stream",
     "text": [
      "{\r\n",
      "    \"model_config\" : {\r\n",
      "        \"config\": \"config/models/yolov3.cfg\",\r\n",
      "        \"pretrained_weights\": \"weights/New folder/yolov3_epoch_9.pth\",\r\n",
      "\r\n",
      "        \"input_size\":           416,\r\n",
      "        \"labels\":               [\"head\"]\r\n",
      "    },\r\n",
      "\r\n",
      "    \"train_config\": {\r\n",
      "        \"seed\": -1,\r\n",
      "        \"_seed_comment\" : \"negative value disables determined seed\",\r\n",
      "\r\n",
      "        \"batch_size\":           16,\r\n",
      "        \"gradient_accumulations\": 4,\r\n",
      "        \"_effective_batch_size_comment\": \"effective batch size: batch_size * gradient_accumulations\",\r\n",
      "        \"learning_rate\":        1e-4,\r\n",
      "        \"nb_epochs\":            50,\r\n",
      "\r\n",
      "        \"augment\":              true,\r\n",
      "        \"gradient_clipping\": false,\r\n",
      "        \"freeze_feature_extractor\": true,\r\n",
      "\r\n",
      "        \"save_every\"        :   -1,\r\n",
      "\r\n",
      "        \"debug\":                false,\r\n",
      "\r\n",
      "        \"datasets\": [{\r\n",
      "                \"name\"              :  \"SCUT-HEAD\",\r\n",
      "                \"image_folder\"      :  \"/content/drive/My Drive/Datasets/head-detection/JPEGImages/\",\r\n",
      "                \"annot_folder\"      :  \"/content/drive/My Drive/Datasets/head-detection/Annotations/\",\r\n",
      "                \"cache_dir\"         :  \"/content/drive/My Drive/Datasets/head-detection/\",\r\n",
      "                \"split_file\"        :  \"/content/drive/My Drive/Datasets/head-detection/ImageSets/MainCombined/trainval.txt\"\r\n",
      "            }]\r\n",
      "    },\r\n",
      "\r\n",
      "    \"val_config\": {\r\n",
      "         \"validate\"        :  true,\r\n",
      "\r\n",
      "        \"nms_threshold\"  : 0.3,\r\n",
      "        \"conf_threshold\" : 0.5,\r\n",
      "        \"iou_threshold\"  : 0.5,\r\n",
      "\r\n",
      "        \"shuffle_dataset\": true,\r\n",
      "\r\n",
      "        \"batch_size\": 16,\r\n",
      "\r\n",
      "        \"datasets\": [{\r\n",
      "            \"name\"              :  \"SCUT-HEAD\",\r\n",
      "            \"image_folder\"      :  \"/content/drive/My Drive/Datasets/head-detection/JPEGImages/\",\r\n",
      "            \"annot_folder\"      :  \"/content/drive/My Drive/Datasets/head-detection/Annotations/\",\r\n",
      "            \"cache_dir\"         :  \"/content/drive/My Drive/Datasets/head-detection/\",\r\n",
      "            \"split_file\"        :  \"/content/drive/My Drive/Datasets/head-detection/ImageSets/MainCombined/test.txt\"\r\n",
      "        }, {\r\n",
      "            \"name\"              :  \"Hollywood Heads\",\r\n",
      "            \"image_folder\"      :  \"/content/drive/My Drive/Datasets/HollywoodHeadsTest/JPEGImages/\",\r\n",
      "            \"annot_folder\"      :  \"/content/drive/My Drive/Datasets/HollywoodHeadsTest/Annotations/\",\r\n",
      "            \"cache_dir\"         :  \"/content/drive/My Drive/Datasets/HollywoodHeadsTest/\",\r\n",
      "            \"split_file\"        :  \"\"\r\n",
      "        }]\r\n",
      "    }\r\n",
      "}\r\n"
     ]
    }
   ],
   "source": [
    "!cat config/runs/config-finetuning.json"
   ]
  },
  {
   "cell_type": "code",
   "execution_count": 0,
   "metadata": {
    "id": "9b3jbI2qS5QX",
    "colab_type": "code",
    "outputId": "df2bd71e-37af-450d-92de-a92d5992161d",
    "executionInfo": {
     "status": "error",
     "timestamp": 1.562197625575E12,
     "user_tz": -180.0,
     "elapsed": 1251.0,
     "user": {
      "displayName": "Valentin Alexandrov",
      "photoUrl": "",
      "userId": "15937191641882803271"
     }
    },
    "colab": {
     "base_uri": "https://localhost:8080/",
     "height": 265.0
    }
   },
   "outputs": [
    {
     "name": "stdout",
     "output_type": "stream",
     "text": [
      "Experiment name: exp__b_16_grad_4__lr_1,0e-04__aug__frozen__\n",
      "experiment dir already exists! Removing...\n",
      "08/06/2019 20:49:44 - INFO - root -   New session\n",
      "Loading datasets...\n",
      "Size of the split: 3405\n",
      "08/06/2019 20:49:44 - INFO - root -   loading cached annotation file trainval\n",
      "Size of the split: 1000\n",
      "08/06/2019 20:49:44 - INFO - root -   loading cached annotation file test\n",
      "08/06/2019 20:49:44 - INFO - root -   loading cached annotation file all\n",
      "Loaded!\n",
      "Model initialized!\n",
      "Trainable params: 5,626,365\n"
     ]
    }
   ],
   "source": [
    "!python3 train.py \\\n",
    "--config_file=config/runs/config-finetuning.json"
   ]
  },
  {
   "cell_type": "code",
   "execution_count": 0,
   "metadata": {
    "id": "LLDTpuJ5C-By",
    "colab_type": "code",
    "outputId": "ed0b8c02-e712-4b0e-c9bc-cadbb03464cf",
    "executionInfo": {
     "status": "ok",
     "timestamp": 1.561538666613E12,
     "user_tz": -180.0,
     "elapsed": 406592.0,
     "user": {
      "displayName": "Valentin Alexandrov",
      "photoUrl": "",
      "userId": "15937191641882803271"
     }
    },
    "colab": {
     "base_uri": "https://localhost:8080/",
     "height": 72.0
    }
   },
   "outputs": [
    {
     "name": "stdout",
     "output_type": "stream",
     "text": [
      "Evaluating : 100% 82/82 [06:24<00:00,  3.38s/it]\n",
      "Computing AP: 100% 1/1 [00:00<00:00, 180.68it/s]\n",
      "Evaluating results: precision-[0.69339985], recall-[0.68214421], AP-[0.60366484], F1-[0.68772598], ap_class-[0]\n"
     ]
    }
   ],
   "source": [
    "exp_name = 'exp__b_16_grad_4__lr_1.0e-04__aug__'\n",
    "\n",
    "!python3 eval.py \\\n",
    "--config_file=config/runs/config-hollywood.json \\\n",
    "--model_checkpoint=output/{exp_name}/checkpoints/yolov3_epoch_29.pth \\"
   ]
  },
  {
   "cell_type": "code",
   "execution_count": 10,
   "metadata": {
    "id": "CM5odWgf9t40",
    "colab_type": "code",
    "outputId": "5102f8c2-153b-4bd3-811a-903f42884f43",
    "executionInfo": {
     "status": "ok",
     "timestamp": 1.565218145517E12,
     "user_tz": -180.0,
     "elapsed": 7863.0,
     "user": {
      "displayName": "Valentin Alexandrov",
      "photoUrl": "",
      "userId": "15937191641882803271"
     }
    },
    "colab": {
     "base_uri": "https://localhost:8080/",
     "height": 126.0
    }
   },
   "outputs": [
    {
     "name": "stdout",
     "output_type": "stream",
     "text": [
      "Traceback (most recent call last):\n",
      "  File \"eval.py\", line 123, in <module>\n",
      "    main()\n",
      "  File \"eval.py\", line 89, in main\n",
      "    for i, dataset_config in enumerate(config['val'][\"datasets\"]):\n",
      "KeyError: 'val'\n"
     ]
    }
   ],
   "source": [
    "exp_name = 'exp__b_16_grad_4__lr_1,0e-04__aug__frozen__\\ (1)'\n",
    "model_file = 'yolov3_epoch_19.pth'\n",
    "config_file = 'config-finetuning.json'\n",
    "\n",
    "!python3 eval.py \\\n",
    "--config_file=config/runs/{config_file} \\\n",
    "--model_checkpoint=output/'exp__b_16_grad_4__lr_1,0e-04__aug__frozen__ (1)'/checkpoints/{model_file} \\"
   ]
  },
  {
   "cell_type": "code",
   "execution_count": 0,
   "metadata": {
    "id": "c81cWDaM-RPl",
    "colab_type": "code",
    "outputId": "c1679615-2c5d-4b50-bede-6c65230dfe93",
    "executionInfo": {
     "status": "ok",
     "timestamp": 1.561538978576E12,
     "user_tz": -180.0,
     "elapsed": 47829.0,
     "user": {
      "displayName": "Valentin Alexandrov",
      "photoUrl": "",
      "userId": "15937191641882803271"
     }
    },
    "colab": {
     "base_uri": "https://localhost:8080/",
     "height": 72.0
    }
   },
   "outputs": [
    {
     "name": "stdout",
     "output_type": "stream",
     "text": [
      "Evaluating : 100% 82/82 [00:38<00:00,  2.15it/s]\n",
      "Computing AP: 100% 1/1 [00:00<00:00, 172.43it/s]\n",
      "Evaluating results: precision-[0.69127014], recall-[0.69648924], AP-[0.61495025], F1-[0.69386988], ap_class-[0]\n"
     ]
    }
   ],
   "source": [
    "exp_name = 'exp__b_16_grad_4__lr_1.0e-04__aug__'\n",
    "\n",
    "!python3 eval.py \\\n",
    "--config_file=config/runs/config-hollywood.json \\\n",
    "--model_checkpoint=output/{exp_name}/checkpoints/yolov3_epoch_26.pth \\"
   ]
  },
  {
   "cell_type": "markdown",
   "metadata": {
    "id": "OQsdnxGjkSf_",
    "colab_type": "text"
   },
   "source": [
    ""
   ]
  }
 ],
 "metadata": {
  "colab": {
   "name": "Pytorch-yolo-colab.ipynb",
   "version": "0.3.2",
   "provenance": []
  },
  "kernelspec": {
   "name": "python3",
   "display_name": "Python 3"
  },
  "accelerator": "GPU"
 },
 "nbformat": 4,
 "nbformat_minor": 0
}
